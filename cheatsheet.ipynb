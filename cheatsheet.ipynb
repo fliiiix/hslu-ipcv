{
 "cells": [
  {
   "cell_type": "markdown",
   "metadata": {},
   "source": [
    "# Cheatsheet Notebook"
   ]
  },
  {
   "cell_type": "code",
   "execution_count": 59,
   "metadata": {},
   "outputs": [],
   "source": [
    "import cv2\n",
    "import numpy as np\n",
    "import colour\n",
    "from scipy import signal"
   ]
  },
  {
   "cell_type": "markdown",
   "metadata": {},
   "source": [
    "## Farbsysteme\n",
    "\n",
    "Informationen und Umrechnung der Verschiedenen Farbsysteme\n",
    "\n",
    "- Additiv: https://lehrerfortbildung-bw.de/st_digital/medienkompetenz/gestaltung-farbe/physik/additiv/addinter/index.html\n",
    "- Subtraktiv: https://lehrerfortbildung-bw.de/st_digital/medienkompetenz/gestaltung-farbe/physik/subtrakt/subinter/"
   ]
  },
  {
   "cell_type": "code",
   "execution_count": 11,
   "metadata": {},
   "outputs": [],
   "source": [
    "# https://colour.readthedocs.io/\n",
    "\n",
    "# CIE xy -> xyz\n",
    "def xyz_from_xy(x, y):\n",
    "    \"\"\"Return the vector (x, y, 1-x-y).\"\"\"\n",
    "    return np.array((x, y, 1-x-y))"
   ]
  },
  {
   "cell_type": "code",
   "execution_count": 12,
   "metadata": {},
   "outputs": [
    {
     "data": {
      "text/plain": [
       "array([ 3.,  3.])"
      ]
     },
     "execution_count": 12,
     "metadata": {},
     "output_type": "execute_result"
    }
   ],
   "source": [
    "colour.XYZ_to_xy(xyz_from_xy(3.0, 3.0))"
   ]
  },
  {
   "cell_type": "code",
   "execution_count": 31,
   "metadata": {},
   "outputs": [
    {
     "data": {
      "text/plain": [
       "array([ 0.3016038 ,  0.69230776])"
      ]
     },
     "execution_count": 31,
     "metadata": {},
     "output_type": "execute_result"
    }
   ],
   "source": [
    "colour.XYZ_to_xy(colour.wavelength_to_XYZ(550))"
   ]
  },
  {
   "cell_type": "code",
   "execution_count": 19,
   "metadata": {},
   "outputs": [
    {
     "data": {
      "text/plain": [
       "array([ 0.16666667,  1.        ,  1.        ])"
      ]
     },
     "execution_count": 19,
     "metadata": {},
     "output_type": "execute_result"
    }
   ],
   "source": [
    "colour.RGB_to_HSV((1, 1, 0))"
   ]
  },
  {
   "cell_type": "code",
   "execution_count": 20,
   "metadata": {},
   "outputs": [
    {
     "data": {
      "text/plain": [
       "array([ 0.,  0.,  1.])"
      ]
     },
     "execution_count": 20,
     "metadata": {},
     "output_type": "execute_result"
    }
   ],
   "source": [
    "colour.RGB_to_CMY((1, 1, 0))"
   ]
  },
  {
   "cell_type": "code",
   "execution_count": 23,
   "metadata": {},
   "outputs": [
    {
     "data": {
      "text/plain": [
       "array([ 0.,  0.,  1.,  0.])"
      ]
     },
     "execution_count": 23,
     "metadata": {},
     "output_type": "execute_result"
    }
   ],
   "source": [
    "colour.CMY_to_CMYK(colour.RGB_to_CMY((1, 1, 0)))"
   ]
  },
  {
   "cell_type": "code",
   "execution_count": 26,
   "metadata": {},
   "outputs": [
    {
     "data": {
      "text/plain": [
       "array([ 0.5,  0.5,  0.5])"
      ]
     },
     "execution_count": 26,
     "metadata": {},
     "output_type": "execute_result"
    }
   ],
   "source": [
    "colour.HSV_to_RGB((240, 0, 0.5))"
   ]
  },
  {
   "cell_type": "code",
   "execution_count": 28,
   "metadata": {},
   "outputs": [
    {
     "data": {
      "text/plain": [
       "array([ 0.5,  0.5,  0.5])"
      ]
     },
     "execution_count": 28,
     "metadata": {},
     "output_type": "execute_result"
    }
   ],
   "source": [
    "colour.RGB_to_CMY(colour.HSV_to_RGB((240, 0, 0.5)))"
   ]
  },
  {
   "cell_type": "markdown",
   "metadata": {},
   "source": [
    "## Histogramme\n",
    "\n",
    "Berechnen und Histogramausgleich"
   ]
  },
  {
   "cell_type": "code",
   "execution_count": 41,
   "metadata": {},
   "outputs": [
    {
     "data": {
      "text/plain": [
       "array([[  0,  42,  42,  96,  96],\n",
       "       [ 96,  42,  42,  96,  96],\n",
       "       [106, 117, 128, 181, 181],\n",
       "       [223, 223, 181, 181, 181],\n",
       "       [223, 223, 255, 255, 255]], dtype=uint8)"
      ]
     },
     "execution_count": 41,
     "metadata": {},
     "output_type": "execute_result"
    }
   ],
   "source": [
    "cv2.equalizeHist(np.uint8([\n",
    "    [0, 1, 1, 2, 2],\n",
    "    [2, 1, 1, 2, 2],\n",
    "    [4, 5, 6, 7, 7],\n",
    "    [8, 8, 7, 7, 7],\n",
    "    [8, 8, 9, 9, 9]\n",
    "]))"
   ]
  },
  {
   "cell_type": "markdown",
   "metadata": {},
   "source": [
    "## Faltungen\n",
    "\n",
    "Faltungen von hand und mit numpy berechnen\n",
    "\n",
    "Beispiel:\n",
    "\n",
    "- f: (0, 0, 0, 1, 1, 0, 0, 0)\n",
    "- w: (1, 2, 2, 2, 1)\n",
    "\n",
    "![faltung](img/faltung.png)"
   ]
  },
  {
   "cell_type": "code",
   "execution_count": 48,
   "metadata": {},
   "outputs": [
    {
     "data": {
      "text/plain": [
       "array([0, 0, 0, 1, 3, 5, 6, 5, 3, 1, 0, 0, 0])"
      ]
     },
     "execution_count": 48,
     "metadata": {},
     "output_type": "execute_result"
    }
   ],
   "source": [
    "# faltung von f * w\n",
    "\n",
    "f = np.array([0, 0, 0, 1, 1, 1, 0, 0, 0])\n",
    "w = np.array([1, 2, 2, 2, 1])\n",
    "\n",
    "np.convolve(f, w)"
   ]
  },
  {
   "cell_type": "code",
   "execution_count": 51,
   "metadata": {},
   "outputs": [
    {
     "data": {
      "text/plain": [
       "array([0, 1, 2, 1, 0, 1, 2, 1, 0, 0, 0])"
      ]
     },
     "execution_count": 51,
     "metadata": {},
     "output_type": "execute_result"
    }
   ],
   "source": [
    "# korrelation von g ox h\n",
    "\n",
    "g = np.array([1, 1, 0, 0, 1, 1, 0, 0])\n",
    "h = np.array([0, 1, 1, 0])\n",
    "\n",
    "np.correlate(g, h, \"full\")"
   ]
  },
  {
   "cell_type": "code",
   "execution_count": 52,
   "metadata": {},
   "outputs": [
    {
     "data": {
      "text/plain": [
       "array([ True,  True,  True,  True,  True,  True,  True,  True,  True,\n",
       "        True,  True], dtype=bool)"
      ]
     },
     "execution_count": 52,
     "metadata": {},
     "output_type": "execute_result"
    }
   ],
   "source": [
    "# man beachte\n",
    "np.correlate(g, h, \"full\") == np.convolve(g, h)"
   ]
  },
  {
   "cell_type": "code",
   "execution_count": 61,
   "metadata": {
    "scrolled": true
   },
   "outputs": [
    {
     "data": {
      "text/plain": [
       "array([[ 1,  4,  8,  8,  3],\n",
       "       [ 2,  9, 20, 21,  8],\n",
       "       [ 5, 17, 27, 23,  8],\n",
       "       [ 8, 23, 26, 15,  4],\n",
       "       [ 4, 11, 11,  5,  1]])"
      ]
     },
     "execution_count": 61,
     "metadata": {},
     "output_type": "execute_result"
    }
   ],
   "source": [
    "# 2d example\n",
    "f = np.array([\n",
    "    [1, 2, 3],\n",
    "    [0, 1, 2],\n",
    "    [4, 3, 1]\n",
    "])\n",
    "w = np.array([\n",
    "    [1, 2, 1],\n",
    "    [2, 4, 2],\n",
    "    [1, 2, 1]\n",
    "])\n",
    "\n",
    "signal.convolve2d(f, w)"
   ]
  },
  {
   "cell_type": "code",
   "execution_count": 70,
   "metadata": {},
   "outputs": [
    {
     "data": {
      "text/plain": [
       "array([[0, 8, 0],\n",
       "       [0, 3, 0],\n",
       "       [0, 0, 0]], dtype=uint8)"
      ]
     },
     "execution_count": 70,
     "metadata": {},
     "output_type": "execute_result"
    }
   ],
   "source": [
    "# 2d example with cv2.filter2D\n",
    "image = np.uint8(np.array([\n",
    "    [1, 2, 3],\n",
    "    [0, 1, 2],\n",
    "    [4, 3, 1]\n",
    "]))\n",
    "\n",
    "prewitt_operator = np.array([\n",
    "    [-1, 0, 1], \n",
    "    [-2, 0, 2], \n",
    "    [-1, 0, 1]\n",
    "])\n",
    "\n",
    "\n",
    "prewitt_img = cv2.filter2D(image, -1, prewitt_operator)\n",
    "prewitt_img"
   ]
  },
  {
   "cell_type": "code",
   "execution_count": 71,
   "metadata": {},
   "outputs": [
    {
     "data": {
      "text/plain": [
       "array([[0, 0, 0],\n",
       "       [8, 3, 0],\n",
       "       [0, 0, 0]], dtype=uint8)"
      ]
     },
     "execution_count": 71,
     "metadata": {},
     "output_type": "execute_result"
    }
   ],
   "source": [
    "image = np.uint8(np.array([\n",
    "    [1, 2, 3],\n",
    "    [0, 1, 2],\n",
    "    [4, 3, 1]\n",
    "]))\n",
    "\n",
    "sobel_operator = np.array([\n",
    "    [-1, -2, -1], \n",
    "    [0, 0, 0], \n",
    "])\n",
    "\n",
    "sobel_img = cv2.filter2D(image, -1, sobel_operator)\n",
    "sobel_img"
   ]
  },
  {
   "cell_type": "code",
   "execution_count": 72,
   "metadata": {},
   "outputs": [
    {
     "data": {
      "text/plain": [
       "array([[0, 0, 0],\n",
       "       [8, 3, 0],\n",
       "       [0, 0, 0]], dtype=uint8)"
      ]
     },
     "execution_count": 72,
     "metadata": {},
     "output_type": "execute_result"
    }
   ],
   "source": [
    "image = np.uint8(np.array([\n",
    "    [1, 2, 3],\n",
    "    [0, 1, 2],\n",
    "    [4, 3, 1]\n",
    "]))\n",
    "\n",
    "laplace_operator = np.array([\n",
    "    [0, -1, 0], \n",
    "    [-1, 4, -1], \n",
    "    [0, -1, 0]\n",
    "])\n",
    "\n",
    "laplace_img = cv2.filter2D(image, -1, sobel_operator)\n",
    "laplace_img"
   ]
  },
  {
   "cell_type": "markdown",
   "metadata": {},
   "source": [
    "## Huffman Encoding"
   ]
  },
  {
   "cell_type": "code",
   "execution_count": 74,
   "metadata": {},
   "outputs": [
    {
     "data": {
      "text/plain": [
       "b'^O\\x1a\\xc4S\\xab'"
      ]
     },
     "execution_count": 74,
     "metadata": {},
     "output_type": "execute_result"
    }
   ],
   "source": [
    "from dahuffman import HuffmanCodec\n",
    "\n",
    "codec = HuffmanCodec.from_data('hello world how are you doing today foo bar lorem ipsum')\n",
    "codec.encode('do lo er ad od')"
   ]
  },
  {
   "cell_type": "code",
   "execution_count": 75,
   "metadata": {},
   "outputs": [
    {
     "name": "stdout",
     "output_type": "stream",
     "text": [
      "Bits Code   Value Symbol\n",
      "   2 00         0 ' '\n",
      "   4 0100       4 'a'\n",
      "   4 0101       5 'd'\n",
      "   4 0110       6 'e'\n",
      "   6 011100    28 _EOF\n",
      "   6 011101    29 'b'\n",
      "   6 011110    30 'f'\n",
      "   6 011111    31 'g'\n",
      "   5 10000     16 'h'\n",
      "   5 10001     17 'i'\n",
      "   4 1001       9 'l'\n",
      "   5 10100     20 'm'\n",
      "   6 101010    42 'n'\n",
      "   6 101011    43 'p'\n",
      "   4 1011      11 'r'\n",
      "   6 110000    48 's'\n",
      "   6 110001    49 't'\n",
      "   5 11001     25 'u'\n",
      "   5 11010     26 'w'\n",
      "   5 11011     27 'y'\n",
      "   3 111        7 'o'\n"
     ]
    }
   ],
   "source": [
    "codec.print_code_table()"
   ]
  },
  {
   "cell_type": "code",
   "execution_count": null,
   "metadata": {},
   "outputs": [],
   "source": []
  }
 ],
 "metadata": {
  "kernelspec": {
   "display_name": "Python 3",
   "language": "python",
   "name": "python3"
  },
  "language_info": {
   "codemirror_mode": {
    "name": "ipython",
    "version": 3
   },
   "file_extension": ".py",
   "mimetype": "text/x-python",
   "name": "python",
   "nbconvert_exporter": "python",
   "pygments_lexer": "ipython3",
   "version": "3.6.9"
  }
 },
 "nbformat": 4,
 "nbformat_minor": 2
}
